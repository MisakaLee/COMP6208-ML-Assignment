{
 "cells": [
  {
   "cell_type": "code",
   "execution_count": 1,
   "metadata": {},
   "outputs": [
    {
     "name": "stdout",
     "output_type": "stream",
     "text": [
      "Importing Data...\n",
      "Done\n",
      "<class 'pandas.core.frame.DataFrame'>\n",
      "RangeIndex: 52482 entries, 0 to 52481\n",
      "Data columns (total 9 columns):\n",
      "time         52482 non-null float64\n",
      "frontal      52482 non-null float64\n",
      "vertical     52482 non-null float64\n",
      "lateral      52482 non-null float64\n",
      "id           52482 non-null int64\n",
      "rssi         52482 non-null float64\n",
      "phase        52482 non-null float64\n",
      "frequency    52482 non-null float64\n",
      "activity     52482 non-null int64\n",
      "dtypes: float64(7), int64(2)\n",
      "memory usage: 3.6 MB\n"
     ]
    }
   ],
   "source": [
    "\"\"\"loop through files in S1_Dataset directory\"\"\"\n",
    "\"\"\"create 2D data matrix by appending each new dataset to the bottom of data matrixx\"\"\"\n",
    "import os\n",
    "import pandas as pd\n",
    "\n",
    "S1_PATH = os.path.join('..','Datasets_Healthy_Older_People','S1_Dataset')\n",
    "S2_PATH = os.path.join('..','Datasets_Healthy_Older_People','S2_Dataset')\n",
    "print('Importing Data...')\n",
    "s1_data = pd.DataFrame()\n",
    "for filename in os.listdir(S1_PATH):\n",
    "    if filename != 'README.txt':\n",
    "        data_path = os.path.join(S1_PATH, filename)\n",
    "        data=pd.read_csv(data_path, header=None)\n",
    "        s1_data = s1_data.append(data, ignore_index=True)\n",
    "s1_data.columns = ['time','frontal','vertical','lateral','id','rssi','phase','frequency','activity']\n",
    "print('Done')\n",
    "s1_data.info()"
   ]
  },
  {
   "cell_type": "code",
   "execution_count": 40,
   "metadata": {},
   "outputs": [],
   "source": [
    "# from sklearn import preprocessing\n",
    "# min_max_scaler = preprocessing.MinMaxScaler()\n",
    "# s1_data_normalized = pd.DataFrame(min_max_scaler.fit_transform(s1_data))\n",
    "# s1_data_normalized.columns = ['time','frontal','vertical','lateral','id','rssi','phase','frequency','activity']\n",
    "# s1_data_normalized\n"
   ]
  },
  {
   "cell_type": "code",
   "execution_count": 2,
   "metadata": {},
   "outputs": [],
   "source": [
    "\"\"\"Make data sets for training and testing\"\"\"\n",
    "from sklearn.model_selection import train_test_split\n",
    "s1_train_set, s1_test_set = train_test_split(s1_data, test_size = 0.2, random_state = 1)\n",
    "s1_train_set_s1lda =  s1_train_set.drop(columns=['time','frequency','phase'])\n",
    "s1_train_set_s1lda_features = s1_train_set_s1lda.drop(columns=['activity'])\n",
    "s1_train_set_s1lda_labels = s1_train_set_s1lda.drop(columns=['frontal','vertical','lateral','rssi','id'])\n",
    "\n",
    "s1_test_set_s1lda =  s1_test_set.drop(columns=['time','frequency','phase'])\n",
    "s1_test_set_s1lda_features = s1_test_set_s1lda.drop(columns=['activity'])\n",
    "s1_test_set_s1lda_labels = s1_test_set_s1lda.drop(columns=['frontal','vertical','lateral','rssi','id'])\n"
   ]
  },
  {
   "cell_type": "code",
   "execution_count": 3,
   "metadata": {},
   "outputs": [],
   "source": [
    "\"\"\"Fit Model on training data\"\"\"\n",
    "from sklearn.discriminant_analysis import LinearDiscriminantAnalysis as LDA\n",
    "\n",
    "lda_clf = LDA()\n",
    "lda_clf = lda_clf.fit(s1_train_set_s1lda_features, s1_train_set_s1lda_labels.values.ravel())"
   ]
  },
  {
   "cell_type": "code",
   "execution_count": 4,
   "metadata": {},
   "outputs": [],
   "source": [
    "import numpy as np\n",
    "import itertools\n",
    "import matplotlib.pyplot as plt\n",
    "def plot_confusion_matrix(cm, classes,\n",
    "                          normalize=False,\n",
    "                          title='Confusion matrix',\n",
    "                          cmap=plt.cm.Blues):\n",
    "    \"\"\"\n",
    "    This function prints and plots the confusion matrix.\n",
    "    Normalization can be applied by setting `normalize=True`.\n",
    "    \"\"\"\n",
    "    if normalize:\n",
    "        cm = cm.astype('float') / cm.sum(axis=1)[:, np.newaxis]\n",
    "        print(\"Normalized confusion matrix\")\n",
    "    else:\n",
    "        print('Confusion matrix, without normalization')\n",
    "\n",
    "    print(cm)\n",
    "\n",
    "    plt.imshow(cm, interpolation='nearest', cmap=cmap)\n",
    "    plt.title(title)\n",
    "    plt.colorbar()\n",
    "    tick_marks = np.arange(len(classes))\n",
    "    plt.xticks(tick_marks, classes, rotation=45)\n",
    "    plt.yticks(tick_marks, classes)\n",
    "\n",
    "    fmt = '.2f' if normalize else 'd'\n",
    "    thresh = cm.max() / 2.\n",
    "    for i, j in itertools.product(range(cm.shape[0]), range(cm.shape[1])):\n",
    "        plt.text(j, i, format(cm[i, j], fmt),\n",
    "                 horizontalalignment=\"center\",\n",
    "                 color=\"white\" if cm[i, j] > thresh else \"black\")\n",
    "\n",
    "    plt.ylabel('True label')\n",
    "    plt.xlabel('Predicted label')\n",
    "    plt.tight_layout()"
   ]
  },
  {
   "cell_type": "code",
   "execution_count": 5,
   "metadata": {
    "scrolled": false
   },
   "outputs": [
    {
     "name": "stdout",
     "output_type": "stream",
     "text": [
      "Normalized confusion matrix\n",
      "[[9.26100239e-01 5.91198084e-02 1.00734869e-02 4.70646520e-03]\n",
      " [6.73521851e-01 3.15052842e-01 0.00000000e+00 1.14253071e-02]\n",
      " [1.20923858e-04 4.43387480e-04 9.99435689e-01 0.00000000e+00]\n",
      " [6.05498721e-01 3.00511509e-02 7.03324808e-03 3.57416880e-01]]\n"
     ]
    },
    {
     "data": {
      "image/png": "[encoded data removed]",
      "text/plain": [
       "<Figure size 432x288 with 2 Axes>"
      ]
     },
     "metadata": {
      "needs_background": "light"
     },
     "output_type": "display_data"
    }
   ],
   "source": [
    "\"\"\"Confusion matrix on Trained data\"\"\"\n",
    "from sklearn.model_selection import cross_val_predict\n",
    "from sklearn.metrics import confusion_matrix\n",
    "\n",
    "import matplotlib.pyplot as plt\n",
    "s1_train_set_s1lda_predict = cross_val_predict(lda_clf, s1_train_set_s1lda_features, s1_train_set_s1lda_labels.values.ravel(), cv=3)\n",
    "s1lda_conf_mx = confusion_matrix(s1_train_set_s1lda_labels.values.ravel(), s1_train_set_s1lda_predict)\n",
    "plt.figure()\n",
    "class_names = [1,2,3,4]\n",
    "plot_confusion_matrix(s1lda_conf_mx, classes=class_names, normalize=True,\n",
    "                      title='Normalized confusion matrix')\n",
    "plt.show()"
   ]
  },
  {
   "cell_type": "code",
   "execution_count": 6,
   "metadata": {},
   "outputs": [
    {
     "name": "stdout",
     "output_type": "stream",
     "text": [
      "sit on bed precision: 0.7722390526025888\n",
      "sit on bed recall: 0.9261002394517381\n",
      "sit on chair precision: 0.5876398508257858\n",
      "sit on chair recall: 0.31505284204512995\n",
      "lying precision: 0.9946646341463414\n",
      "lying recall: 0.9994356886613729\n",
      "ambulating precision: 0.8521341463414634\n",
      "ambulating recall: 0.35741687979539644\n"
     ]
    }
   ],
   "source": [
    "for index, activity in [(0, \"sit on bed\"), (1, \"sit on chair\"), (2, \"lying\"), (3, \"ambulating\")]:\n",
    "    precision = s1lda_conf_mx[index,index]/sum(s1lda_conf_mx[:,index])\n",
    "    recall = s1lda_conf_mx[index,index]/sum(s1lda_conf_mx[index,:])\n",
    "    print(activity + \" precision: \" + str(precision))\n",
    "    print(activity + \" recall: \" + str(recall))"
   ]
  }
 ],
 "metadata": {
  "kernelspec": {
   "display_name": "Python 3",
   "language": "python",
   "name": "python3"
  },
  "language_info": {
   "codemirror_mode": {
    "name": "ipython",
    "version": 3
   },
   "file_extension": ".py",
   "mimetype": "text/x-python",
   "name": "python",
   "nbconvert_exporter": "python",
   "pygments_lexer": "ipython3",
   "version": "3.6.5"
  }
 },
 "nbformat": 4,
 "nbformat_minor": 2
}
