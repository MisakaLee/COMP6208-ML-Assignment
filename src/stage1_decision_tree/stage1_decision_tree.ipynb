{
 "cells": [
  {
   "cell_type": "code",
   "execution_count": 1,
   "metadata": {},
   "outputs": [
    {
     "name": "stdout",
     "output_type": "stream",
     "text": [
      "Importing Data...\n",
      "Done.\n"
     ]
    }
   ],
   "source": [
    "\"\"\"import data using pandas\"\"\"\n",
    "import os\n",
    "import pandas as pd\n",
    "S1_PATH = os.path.join('..','..','Datasets_Healthy_Older_People','S1_Dataset')\n",
    "S2_PATH = os.path.join('..','..','Datasets_Healthy_Older_People','S2_Dataset')\n",
    "print('Importing Data...')\n",
    "data_path = os.path.join(S1_PATH, \"d1p01M\")\n",
    "s1_1_data = pd.read_csv(data_path, header=None)\n",
    "print('Done.')"
   ]
  },
  {
   "cell_type": "code",
   "execution_count": 2,
   "metadata": {},
   "outputs": [
    {
     "name": "stdout",
     "output_type": "stream",
     "text": [
      "<class 'pandas.core.frame.DataFrame'>\n",
      "RangeIndex: 401 entries, 0 to 400\n",
      "Data columns (total 9 columns):\n",
      "0    401 non-null float64\n",
      "1    401 non-null float64\n",
      "2    401 non-null float64\n",
      "3    401 non-null float64\n",
      "4    401 non-null int64\n",
      "5    401 non-null float64\n",
      "6    401 non-null float64\n",
      "7    401 non-null float64\n",
      "8    401 non-null int64\n",
      "dtypes: float64(7), int64(2)\n",
      "memory usage: 28.3 KB\n"
     ]
    },
    {
     "data": {
      "text/html": [
       "<div>\n",
       "<style scoped>\n",
       "    .dataframe tbody tr th:only-of-type {\n",
       "        vertical-align: middle;\n",
       "    }\n",
       "\n",
       "    .dataframe tbody tr th {\n",
       "        vertical-align: top;\n",
       "    }\n",
       "\n",
       "    .dataframe thead th {\n",
       "        text-align: right;\n",
       "    }\n",
       "</style>\n",
       "<table border=\"1\" class=\"dataframe\">\n",
       "  <thead>\n",
       "    <tr style=\"text-align: right;\">\n",
       "      <th></th>\n",
       "      <th>0</th>\n",
       "      <th>1</th>\n",
       "      <th>2</th>\n",
       "      <th>3</th>\n",
       "      <th>4</th>\n",
       "      <th>5</th>\n",
       "      <th>6</th>\n",
       "      <th>7</th>\n",
       "      <th>8</th>\n",
       "    </tr>\n",
       "  </thead>\n",
       "  <tbody>\n",
       "    <tr>\n",
       "      <th>0</th>\n",
       "      <td>0.00</td>\n",
       "      <td>0.27203</td>\n",
       "      <td>1.00820</td>\n",
       "      <td>-0.082102</td>\n",
       "      <td>1</td>\n",
       "      <td>-63.5</td>\n",
       "      <td>2.4252</td>\n",
       "      <td>924.25</td>\n",
       "      <td>1</td>\n",
       "    </tr>\n",
       "    <tr>\n",
       "      <th>1</th>\n",
       "      <td>0.50</td>\n",
       "      <td>0.27203</td>\n",
       "      <td>1.00820</td>\n",
       "      <td>-0.082102</td>\n",
       "      <td>1</td>\n",
       "      <td>-63.0</td>\n",
       "      <td>4.7369</td>\n",
       "      <td>921.75</td>\n",
       "      <td>1</td>\n",
       "    </tr>\n",
       "    <tr>\n",
       "      <th>2</th>\n",
       "      <td>1.50</td>\n",
       "      <td>0.44791</td>\n",
       "      <td>0.91636</td>\n",
       "      <td>-0.013684</td>\n",
       "      <td>1</td>\n",
       "      <td>-63.5</td>\n",
       "      <td>3.0311</td>\n",
       "      <td>923.75</td>\n",
       "      <td>1</td>\n",
       "    </tr>\n",
       "    <tr>\n",
       "      <th>3</th>\n",
       "      <td>1.75</td>\n",
       "      <td>0.44791</td>\n",
       "      <td>0.91636</td>\n",
       "      <td>-0.013684</td>\n",
       "      <td>1</td>\n",
       "      <td>-63.0</td>\n",
       "      <td>2.0371</td>\n",
       "      <td>921.25</td>\n",
       "      <td>1</td>\n",
       "    </tr>\n",
       "    <tr>\n",
       "      <th>4</th>\n",
       "      <td>2.50</td>\n",
       "      <td>0.34238</td>\n",
       "      <td>0.96229</td>\n",
       "      <td>-0.059296</td>\n",
       "      <td>1</td>\n",
       "      <td>-63.5</td>\n",
       "      <td>5.8920</td>\n",
       "      <td>920.25</td>\n",
       "      <td>1</td>\n",
       "    </tr>\n",
       "  </tbody>\n",
       "</table>\n",
       "</div>"
      ],
      "text/plain": [
       "      0        1        2         3  4     5       6       7  8\n",
       "0  0.00  0.27203  1.00820 -0.082102  1 -63.5  2.4252  924.25  1\n",
       "1  0.50  0.27203  1.00820 -0.082102  1 -63.0  4.7369  921.75  1\n",
       "2  1.50  0.44791  0.91636 -0.013684  1 -63.5  3.0311  923.75  1\n",
       "3  1.75  0.44791  0.91636 -0.013684  1 -63.0  2.0371  921.25  1\n",
       "4  2.50  0.34238  0.96229 -0.059296  1 -63.5  5.8920  920.25  1"
      ]
     },
     "execution_count": 2,
     "metadata": {},
     "output_type": "execute_result"
    }
   ],
   "source": [
    "\"\"\"some quick information about the data\"\"\"\n",
    "s1_1_data.info()\n",
    "s1_1_data.head()"
   ]
  }
 ],
 "metadata": {
  "kernelspec": {
   "display_name": "Python 3",
   "language": "python",
   "name": "python3"
  },
  "language_info": {
   "codemirror_mode": {
    "name": "ipython",
    "version": 3
   },
   "file_extension": ".py",
   "mimetype": "text/x-python",
   "name": "python",
   "nbconvert_exporter": "python",
   "pygments_lexer": "ipython3",
   "version": "3.7.2"
  }
 },
 "nbformat": 4,
 "nbformat_minor": 2
}
