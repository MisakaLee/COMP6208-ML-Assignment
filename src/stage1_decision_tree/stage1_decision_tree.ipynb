{
 "cells": [
  {
   "cell_type": "code",
   "execution_count": 2,
   "metadata": {},
   "outputs": [
    {
     "name": "stdout",
     "output_type": "stream",
     "text": [
      "Importing Data...\n",
      "Done\n",
      "<class 'pandas.core.frame.DataFrame'>\n",
      "RangeIndex: 52482 entries, 0 to 52481\n",
      "Data columns (total 9 columns):\n",
      "time         52482 non-null float64\n",
      "frontal      52482 non-null float64\n",
      "vertical     52482 non-null float64\n",
      "lateral      52482 non-null float64\n",
      "id           52482 non-null int64\n",
      "rssi         52482 non-null float64\n",
      "phase        52482 non-null float64\n",
      "frequency    52482 non-null float64\n",
      "activity     52482 non-null int64\n",
      "dtypes: float64(7), int64(2)\n",
      "memory usage: 3.6 MB\n"
     ]
    },
    {
     "data": {
      "text/html": [
       "<div>\n",
       "<style scoped>\n",
       "    .dataframe tbody tr th:only-of-type {\n",
       "        vertical-align: middle;\n",
       "    }\n",
       "\n",
       "    .dataframe tbody tr th {\n",
       "        vertical-align: top;\n",
       "    }\n",
       "\n",
       "    .dataframe thead th {\n",
       "        text-align: right;\n",
       "    }\n",
       "</style>\n",
       "<table border=\"1\" class=\"dataframe\">\n",
       "  <thead>\n",
       "    <tr style=\"text-align: right;\">\n",
       "      <th></th>\n",
       "      <th>time</th>\n",
       "      <th>frontal</th>\n",
       "      <th>vertical</th>\n",
       "      <th>lateral</th>\n",
       "      <th>id</th>\n",
       "      <th>rssi</th>\n",
       "      <th>phase</th>\n",
       "      <th>frequency</th>\n",
       "      <th>activity</th>\n",
       "    </tr>\n",
       "  </thead>\n",
       "  <tbody>\n",
       "    <tr>\n",
       "      <th>52477</th>\n",
       "      <td>485.00</td>\n",
       "      <td>0.330660</td>\n",
       "      <td>0.95081</td>\n",
       "      <td>-0.230340</td>\n",
       "      <td>1</td>\n",
       "      <td>-57.0</td>\n",
       "      <td>6.2188</td>\n",
       "      <td>921.75</td>\n",
       "      <td>1</td>\n",
       "    </tr>\n",
       "    <tr>\n",
       "      <th>52478</th>\n",
       "      <td>485.08</td>\n",
       "      <td>0.330660</td>\n",
       "      <td>0.95081</td>\n",
       "      <td>-0.230340</td>\n",
       "      <td>3</td>\n",
       "      <td>-58.0</td>\n",
       "      <td>0.8805</td>\n",
       "      <td>921.75</td>\n",
       "      <td>1</td>\n",
       "    </tr>\n",
       "    <tr>\n",
       "      <th>52479</th>\n",
       "      <td>485.50</td>\n",
       "      <td>0.330660</td>\n",
       "      <td>0.95081</td>\n",
       "      <td>-0.230340</td>\n",
       "      <td>1</td>\n",
       "      <td>-60.5</td>\n",
       "      <td>5.0054</td>\n",
       "      <td>924.75</td>\n",
       "      <td>1</td>\n",
       "    </tr>\n",
       "    <tr>\n",
       "      <th>52480</th>\n",
       "      <td>488.25</td>\n",
       "      <td>0.119600</td>\n",
       "      <td>0.82449</td>\n",
       "      <td>0.009122</td>\n",
       "      <td>4</td>\n",
       "      <td>-56.0</td>\n",
       "      <td>4.9087</td>\n",
       "      <td>925.75</td>\n",
       "      <td>4</td>\n",
       "    </tr>\n",
       "    <tr>\n",
       "      <th>52481</th>\n",
       "      <td>488.75</td>\n",
       "      <td>0.072698</td>\n",
       "      <td>1.31830</td>\n",
       "      <td>0.009122</td>\n",
       "      <td>4</td>\n",
       "      <td>-56.5</td>\n",
       "      <td>1.0370</td>\n",
       "      <td>922.75</td>\n",
       "      <td>4</td>\n",
       "    </tr>\n",
       "  </tbody>\n",
       "</table>\n",
       "</div>"
      ],
      "text/plain": [
       "         time   frontal  vertical   lateral  id  rssi   phase  frequency  \\\n",
       "52477  485.00  0.330660   0.95081 -0.230340   1 -57.0  6.2188     921.75   \n",
       "52478  485.08  0.330660   0.95081 -0.230340   3 -58.0  0.8805     921.75   \n",
       "52479  485.50  0.330660   0.95081 -0.230340   1 -60.5  5.0054     924.75   \n",
       "52480  488.25  0.119600   0.82449  0.009122   4 -56.0  4.9087     925.75   \n",
       "52481  488.75  0.072698   1.31830  0.009122   4 -56.5  1.0370     922.75   \n",
       "\n",
       "       activity  \n",
       "52477         1  \n",
       "52478         1  \n",
       "52479         1  \n",
       "52480         4  \n",
       "52481         4  "
      ]
     },
     "execution_count": 2,
     "metadata": {},
     "output_type": "execute_result"
    }
   ],
   "source": [
    "\"\"\"loop through files in S1_Dataset directory\"\"\"\n",
    "\"\"\"create 2D data matrix by appending each new dataset to the bottom of data matrixx\"\"\"\n",
    "import os\n",
    "import pandas as pd\n",
    "S1_PATH = os.path.join('..','..','Datasets_Healthy_Older_People','S1_Dataset')\n",
    "S2_PATH = os.path.join('..','..','Datasets_Healthy_Older_People','S2_Dataset')\n",
    "print('Importing Data...')\n",
    "s1_data = pd.DataFrame()\n",
    "for filename in os.listdir(S1_PATH):\n",
    "    if filename != 'README.txt':\n",
    "        data_path = os.path.join(S1_PATH, filename)\n",
    "        data=pd.read_csv(data_path, header=None)\n",
    "        s1_data = s1_data.append(data, ignore_index=True)\n",
    "s1_data.columns = ['time','frontal','vertical','lateral','id','rssi','phase','frequency','activity']\n",
    "print('Done')\n",
    "s1_data.info()\n",
    "s1_data.tail()"
   ]
  },
  {
   "cell_type": "code",
   "execution_count": 2,
   "metadata": {},
   "outputs": [],
   "source": [
    "\"\"\"split the data into training and test\"\"\"\n",
    "from sklearn.model_selection import train_test_split\n",
    "s1_train_set, s1_test_set = train_test_split(s1_data, test_size = 0.2, random_state = 1)\n",
    "#s1_train_set.info()\n",
    "#s1_train_set.head()\n"
   ]
  },
  {
   "cell_type": "code",
   "execution_count": 3,
   "metadata": {},
   "outputs": [],
   "source": [
    "\"\"\"for this task (stage 1 decition tree), keep only the acclerometer features\"\"\"\n",
    "s1_train_set_s1dt =  s1_train_set.drop(columns=['time','id','rssi','phase','frequency'])\n",
    "s1_train_set_s1dt_features = s1_train_set_s1dt.drop(columns=['activity'])\n",
    "s1_train_set_s1dt_labels = s1_train_set_s1dt.drop(columns=['frontal','vertical','lateral'])\n",
    "#s1_train_set_s1dt.head()\n",
    "#s1_train_set_s1dt_features.head()\n",
    "#s1_train_set_s1dt_labels.head()\n"
   ]
  },
  {
   "cell_type": "code",
   "execution_count": 4,
   "metadata": {},
   "outputs": [
    {
     "data": {
      "text/plain": [
       "'normalize the data?'"
      ]
     },
     "execution_count": 4,
     "metadata": {},
     "output_type": "execute_result"
    }
   ],
   "source": [
    "\"\"\"normalize the data?\"\"\"\n"
   ]
  },
  {
   "cell_type": "code",
   "execution_count": 5,
   "metadata": {},
   "outputs": [],
   "source": [
    "\"\"\"train the decision tree model\"\"\"\n",
    "from sklearn import tree\n",
    "dt_clf = tree.DecisionTreeClassifier()\n",
    "dt_clf = dt_clf.fit(s1_train_set_s1dt_features, s1_train_set_s1dt_labels)"
   ]
  },
  {
   "cell_type": "code",
   "execution_count": 6,
   "metadata": {},
   "outputs": [
    {
     "data": {
      "text/plain": [
       "array([[11832,   148,     7,   124],\n",
       "       [  323,  3132,     0,    46],\n",
       "       [    6,     3, 24800,     0],\n",
       "       [  289,    75,     3,  1197]], dtype=int64)"
      ]
     },
     "execution_count": 6,
     "metadata": {},
     "output_type": "execute_result"
    }
   ],
   "source": [
    "\"\"\"evaluate the trained model using cross validation and the confusion matrix\"\"\"\n",
    "from sklearn.model_selection import cross_val_predict\n",
    "from sklearn.metrics import confusion_matrix\n",
    "s1_train_set_s1dt_predict = cross_val_predict(dt_clf, s1_train_set_s1dt_features, s1_train_set_s1dt_labels, cv=3)\n",
    "s1dt_conf_mx = confusion_matrix(s1_train_set_s1dt_labels, s1_train_set_s1dt_predict)\n",
    "s1dt_conf_mx"
   ]
  },
  {
   "cell_type": "code",
   "execution_count": 7,
   "metadata": {},
   "outputs": [
    {
     "name": "stdout",
     "output_type": "stream",
     "text": [
      "sit on bed precision: 0.9503614457831325\n",
      "sit on bed recall: 0.9769630914045083\n",
      "sit on chair precision: 0.9326980345443716\n",
      "sit on chair recall: 0.8946015424164524\n",
      "lying precision: 0.9995969367190649\n",
      "lying recall: 0.9996372284251683\n",
      "ambulating precision: 0.8756400877834675\n",
      "ambulating recall: 0.7653452685421995\n"
     ]
    }
   ],
   "source": [
    "\"\"\"evaluate the trained model in terms of precision and recall\"\"\"\n",
    "\"\"\"1: sit on bed, 2: sit on chair, 3: lying, 4: ambulating\"\"\"\n",
    "for index, activity in [(0, \"sit on bed\"), (1, \"sit on chair\"), (2, \"lying\"), (3, \"ambulating\")]:\n",
    "    precision = s1dt_conf_mx[index,index]/sum(s1dt_conf_mx[:,index])\n",
    "    recall = s1dt_conf_mx[index,index]/sum(s1dt_conf_mx[index,:])\n",
    "    print(activity + \" precision: \" + str(precision))\n",
    "    print(activity + \" recall: \" + str(recall))"
   ]
  },
  {
   "cell_type": "code",
   "execution_count": 8,
   "metadata": {
    "scrolled": false
   },
   "outputs": [
    {
     "data": {
      "text/plain": [
       "'s1dt_no_rssi.svg'"
      ]
     },
     "execution_count": 8,
     "metadata": {},
     "output_type": "execute_result"
    }
   ],
   "source": [
    "\"\"\"visualize the decision tree\"\"\"\n",
    "\"\"\"graph exported as an .svg because it is huge\"\"\"\n",
    "import graphviz\n",
    "dot_data = tree.export_graphviz(dt_clf, out_file=None, \n",
    "                                feature_names=s1_train_set_s1dt_features.columns, \n",
    "                                class_names=['sit on bed', 'sit on chair', 'lying', 'ambulating'],\n",
    "                                rounded=True, filled=True)\n",
    "graph = graphviz.Source(dot_data)\n",
    "graph.format = 'svg'\n",
    "graph.render(\"s1dt_no_rssi\") "
   ]
  }
 ],
 "metadata": {
  "kernelspec": {
   "display_name": "Python 3",
   "language": "python",
   "name": "python3"
  },
  "language_info": {
   "codemirror_mode": {
    "name": "ipython",
    "version": 3
   },
   "file_extension": ".py",
   "mimetype": "text/x-python",
   "name": "python",
   "nbconvert_exporter": "python",
   "pygments_lexer": "ipython3",
   "version": "3.7.1"
  }
 },
 "nbformat": 4,
 "nbformat_minor": 2
}
